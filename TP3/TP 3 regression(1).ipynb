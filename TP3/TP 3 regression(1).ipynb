{
 "cells": [
  {
   "cell_type": "markdown",
   "metadata": {},
   "source": [
    "# TP 3 Regression linéaire\n",
    "Dans ce TP, nous aimerions prédire l'admission d'un étudiant à une specialité donnée selon ses notes dans deux matières.\n",
    "\n",
    "Pour ce faire, nous étudierons un ensemble de données avec l'admission  (y) et les notes des deux modules (X).\n",
    "\n",
    "La prédiction se fera avec l'agorithme de descente du gradient."
   ]
  },
  {
   "cell_type": "markdown",
   "metadata": {},
   "source": [
    "# Importation des librairies necessaires au travail"
   ]
  },
  {
   "cell_type": "code",
   "execution_count": 1336,
   "metadata": {},
   "outputs": [],
   "source": [
    "import numpy as np\n",
    "import matplotlib.pyplot as plt\n"
   ]
  },
  {
   "cell_type": "markdown",
   "metadata": {},
   "source": [
    "# Lecture des fichiers de données\n",
    "Pour ce TP, nous allons lire les données à partir d'un fichier csv."
   ]
  },
  {
   "cell_type": "code",
   "execution_count": 1337,
   "metadata": {},
   "outputs": [
    {
     "data": {
      "text/plain": [
       "(100, 3)"
      ]
     },
     "execution_count": 1337,
     "metadata": {},
     "output_type": "execute_result"
    }
   ],
   "source": [
    "# données\n",
    "data = np.genfromtxt('data.csv', delimiter=',', dtype=int)\n",
    "data.shape"
   ]
  },
  {
   "cell_type": "code",
   "execution_count": 1338,
   "metadata": {},
   "outputs": [
    {
     "data": {
      "text/plain": [
       "array([[ 6, 15,  0],\n",
       "       [ 6,  8,  0],\n",
       "       [ 7, 14,  0],\n",
       "       [12, 17,  1],\n",
       "       [15, 15,  1]])"
      ]
     },
     "execution_count": 1338,
     "metadata": {},
     "output_type": "execute_result"
    }
   ],
   "source": [
    "data[:5]"
   ]
  },
  {
   "cell_type": "markdown",
   "metadata": {},
   "source": [
    "Dans ces données (data), la première colonne represente la première note, la deuxieme colonne la deuxième note et la troisième colonne represente l'admission à la specialité (1 admis 0 non admis).\n",
    "\n",
    "Chaque ligne represente un exemple de notre ensemble de données. \n",
    "\n",
    "Mettons ces données dans leus vecteurs correspondants."
   ]
  },
  {
   "cell_type": "code",
   "execution_count": 1339,
   "metadata": {},
   "outputs": [],
   "source": [
    "# rajoutons l'ordonnée à l'origine theta 0\n",
    "intercept=np.ones((data.shape[0],1))\n",
    "X=np.column_stack((intercept,data[:,0:2]))\n",
    "y = data[:, 2]"
   ]
  },
  {
   "cell_type": "code",
   "execution_count": 1340,
   "metadata": {},
   "outputs": [
    {
     "name": "stdout",
     "output_type": "stream",
     "text": [
      "X (100, 3)  y  (100,)\n"
     ]
    }
   ],
   "source": [
    "print('X', X.shape ,' y ', y.shape)"
   ]
  },
  {
   "cell_type": "markdown",
   "metadata": {},
   "source": [
    "# Descente du Gradient : Préparation des fonctions"
   ]
  },
  {
   "cell_type": "markdown",
   "metadata": {},
   "source": [
    "0- Fonction mpgistique (Sigmoid)"
   ]
  },
  {
   "cell_type": "code",
   "execution_count": 1341,
   "metadata": {},
   "outputs": [],
   "source": [
    "def Sigmoid(z):\n",
    "    # pour une valeur donnée, cette fonction calculera sa sigmoid\n",
    "    return (1 / (1 + np.exp(-z)))\n",
    " "
   ]
  },
  {
   "cell_type": "markdown",
   "metadata": {},
   "source": [
    "1- Calcul du coût\n",
    "\n",
    "Cette fonction servira à calculer le cout $J(\\theta_0,\\theta_1)$\n",
    "\n",
    "Elle prendra l'ensemble de données d'apprentissage en entrée ainsi que les paramètres définis initialement"
   ]
  },
  {
   "cell_type": "code",
   "execution_count": 1342,
   "metadata": {},
   "outputs": [
    {
     "data": {
      "text/plain": [
       "0.6931471805599453"
      ]
     },
     "execution_count": 1342,
     "metadata": {},
     "output_type": "execute_result"
    }
   ],
   "source": [
    "def computeCost(X, y, theta):\n",
    "    \n",
    "    m = len(y)\n",
    "    predict = Sigmoid(np.dot(X, theta))\n",
    "    error = y * (np.log(predict)) + ((1 - y) * np.log(1 - predict))\n",
    "    cost = (-(1/m) * np.sum(error))\n",
    "    return cost\n",
    "\n",
    "computeCost(X, y, [0,0,0])\n",
    "  "
   ]
  },
  {
   "cell_type": "code",
   "execution_count": 1343,
   "metadata": {},
   "outputs": [
    {
     "data": {
      "text/plain": [
       "0.693147180559946"
      ]
     },
     "execution_count": 1343,
     "metadata": {},
     "output_type": "execute_result"
    }
   ],
   "source": [
    "# calculer le coût avec et sans vectorisation, \n",
    "def computeCostNonVect(X, y, theta):\n",
    "    m = X.shape[0]\n",
    "    z = []\n",
    "    predict = np.zeros(m)\n",
    "    \n",
    "    # pour chaque element du dataset on calcule la valeur de y_pred en utilisant le vecteur theta\n",
    "    for i in range(m):\n",
    "        z = X[i][0]*theta[0] + X[i][1]*theta[1] + X[i][2]*theta[2]\n",
    "        predict[i] = Sigmoid(z)\n",
    "        \n",
    "    \n",
    "    # somme des erreurs \n",
    "    cout = 0\n",
    "    for i in range(m):\n",
    "        cout = cout + (y[i] * (np.log(predict)[i]) + ((1 - y[i]) * np.log(1 - predict[i])))\n",
    "    \n",
    "    return -(1 / m) * cout\n",
    "\n",
    "computeCostNonVect(X, y, [0,0,0])"
   ]
  },
  {
   "cell_type": "markdown",
   "metadata": {},
   "source": [
    "2- Fonction de la descente du gradient\n",
    "\n",
    "Cette fonction mettra à jour les paramètres $\\theta_0,\\theta_1$ jusqu'à convergence: atteinte du nombre d'itérations max, ou dérivée assez petite."
   ]
  },
  {
   "cell_type": "code",
   "execution_count": 1344,
   "metadata": {},
   "outputs": [],
   "source": [
    "def model (X,theta):\n",
    "    return Sigmoid(np.dot(X, theta))\n"
   ]
  },
  {
   "cell_type": "code",
   "execution_count": 1345,
   "metadata": {},
   "outputs": [],
   "source": [
    "def grad(X , y , theta):\n",
    "    m = len(y)\n",
    "    gradient = X.T.dot(model(X, theta) - y)\n",
    "    return (1/m)* gradient"
   ]
  },
  {
   "cell_type": "code",
   "execution_count": 1346,
   "metadata": {},
   "outputs": [],
   "source": [
    "def gradientDescent(X, y, theta, alpha, iterations):\n",
    "\n",
    "    cost_history = np.zeros(iterations)\n",
    "    theta_history = []\n",
    "    \n",
    "    for i in range(iterations):\n",
    "        theta = theta - alpha * grad( X, y , theta)\n",
    "        cost_history[i] = computeCost(X, y, theta)\n",
    "        theta_history.append(theta)\n",
    "        \n",
    "    return cost_history , theta_history, theta\n"
   ]
  },
  {
   "cell_type": "markdown",
   "metadata": {},
   "source": [
    "# Descente du Gradient : Appel des fonctions"
   ]
  },
  {
   "cell_type": "markdown",
   "metadata": {},
   "source": [
    "Initialisation de $\\theta_0$ et $\\theta_1$"
   ]
  },
  {
   "cell_type": "code",
   "execution_count": 1347,
   "metadata": {},
   "outputs": [],
   "source": [
    "y = y.reshape(-1, 1)"
   ]
  },
  {
   "cell_type": "code",
   "execution_count": 1348,
   "metadata": {},
   "outputs": [
    {
     "data": {
      "text/plain": [
       "array([[0.],\n",
       "       [0.],\n",
       "       [0.]])"
      ]
     },
     "execution_count": 1348,
     "metadata": {},
     "output_type": "execute_result"
    }
   ],
   "source": [
    "n=X.shape[1]\n",
    "theta = np.zeros((n, 1))\n",
    "theta"
   ]
  },
  {
   "cell_type": "markdown",
   "metadata": {},
   "source": [
    "Calculer le cout initial"
   ]
  },
  {
   "cell_type": "code",
   "execution_count": 1349,
   "metadata": {},
   "outputs": [
    {
     "name": "stdout",
     "output_type": "stream",
     "text": [
      "0.6931471805599453\n"
     ]
    }
   ],
   "source": [
    "initialCost=computeCost(X, y, theta)\n",
    "print(initialCost)"
   ]
  },
  {
   "cell_type": "markdown",
   "metadata": {},
   "source": [
    "Appel des la fonction de calcul du gradient"
   ]
  },
  {
   "cell_type": "code",
   "execution_count": 1350,
   "metadata": {},
   "outputs": [],
   "source": [
    "# paramètres\n",
    "iterations = 1000000\n",
    "alpha = 0.01\n",
    "# Appel\n",
    "cost_history, theta_history, theta = gradientDescent(X, y, theta, alpha, iterations)"
   ]
  },
  {
   "cell_type": "code",
   "execution_count": 1351,
   "metadata": {},
   "outputs": [
    {
     "data": {
      "text/plain": [
       "0.2060560859754641"
      ]
     },
     "execution_count": 1351,
     "metadata": {},
     "output_type": "execute_result"
    }
   ],
   "source": [
    "cost_history[-1]"
   ]
  },
  {
   "cell_type": "code",
   "execution_count": 1352,
   "metadata": {},
   "outputs": [],
   "source": [
    "#LR = 0.01\n",
    "    # (itérations) -> cost \n",
    "\n",
    "    # (1500) -> 0.56\n",
    "    # (10 000) -> 0.382\n",
    "    # (100 000) -> 0.2250\n",
    "    # (500 000 or 700 000) -> 0.2065 - 0.2061\n",
    "    # (1 000 000) -> 0.20605 \n",
    "\n",
    "#LR = 0.03\n",
    "    # (100 000) -> 0.2084\n",
    "\n",
    "#LR = 0.1 \n",
    "    # (30 000) ->  0.206097\n",
    "    # (100 000) -> 0.206044\n",
    "    # (500 000) -> 0.206042\n",
    "\n",
    "#Analyse\n",
    "    #Avec un learning rate plus grand, la fonction cout converge bien plus vite (elle à besoin de beacoup moins d'itération)\n",
    "\n",
    "    #Cependant, au debut, le cout est instable et plus le learning rate est grand plus l'instabilité du cout durant \n",
    "    #les premières itérations est grande.\n",
    "\n",
    "    #Cela dit, le cout minimal reste à peut près le même peut importe le learning rate"
   ]
  },
  {
   "cell_type": "code",
   "execution_count": 1353,
   "metadata": {},
   "outputs": [
    {
     "data": {
      "text/plain": [
       "array([[-23.78260274],\n",
       "       [  1.0207137 ],\n",
       "       [  0.98483397]])"
      ]
     },
     "execution_count": 1353,
     "metadata": {},
     "output_type": "execute_result"
    }
   ],
   "source": [
    "theta"
   ]
  },
  {
   "cell_type": "markdown",
   "metadata": {},
   "source": [
    "Traçage de la fonction du coût"
   ]
  },
  {
   "cell_type": "code",
   "execution_count": 1354,
   "metadata": {},
   "outputs": [
    {
     "data": {
      "image/png": "[encoded data removed]",
      "text/plain": [
       "<Figure size 1000x600 with 1 Axes>"
      ]
     },
     "metadata": {},
     "output_type": "display_data"
    }
   ],
   "source": [
    "# Tracer la convergence de la fonction de coût\n",
    "plt.plot(range(1, iterations + 1), cost_history, color='blue')\n",
    "plt.rcParams[\"figure.figsize\"] = (10, 6)\n",
    "plt.grid()\n",
    "plt.xlabel('Nombre d\\'itérations')\n",
    "plt.ylabel('Fonction de coût')\n",
    "plt.title('Convergence de la descente de gradient')\n",
    "plt.show()"
   ]
  },
  {
   "cell_type": "markdown",
   "metadata": {},
   "source": [
    "Notons que $\\theta^T  x$ est équivalent à $X  \\theta $ où $X= \\begin{pmatrix}\n",
    "..(x^{(1)})^T..\\\\\n",
    "..(x^{(2)})^T..\\\\\n",
    ".\\\\\n",
    ".\\\\\n",
    ".\\\\\n",
    "..(x^{(m)})^T..\n",
    "\\end{pmatrix} $"
   ]
  },
  {
   "cell_type": "markdown",
   "metadata": {},
   "source": [
    "# Dessin de la limite de decision (Descision Boundary)\n",
    "Dans cette partie, nous aimerions dessiner la ligne separatrice d nos données"
   ]
  },
  {
   "cell_type": "code",
   "execution_count": 1355,
   "metadata": {},
   "outputs": [],
   "source": [
    "def drawLine():\n",
    "\n",
    "    plt.scatter(X[np.where(y==1),1],X[np.where(y==1),2], label=\"accepte\",marker ='o')\n",
    "    plt.scatter(X[np.where(y==0),1],X[np.where(y==0),2], label=\"non accepte\",marker ='x')\n",
    "\n",
    "    boundary_xs = np.array([np.min(X[:,1]), np.max(X[:,1])])\n",
    "    boundary_ys = (-1. / theta[2]) * (theta[1] * boundary_xs + theta[0])\n",
    "\n",
    "    plt.plot(boundary_xs, boundary_ys, 'r-', label='Decision Boundary')\n",
    "    \n",
    "    plt.xlabel('Note module 1')\n",
    "    plt.ylabel('Note module 2')\n",
    "    plt.legend()\n",
    "    plt.show()\n",
    "    \n"
   ]
  },
  {
   "cell_type": "markdown",
   "metadata": {},
   "source": [
    "# Affichage \n",
    "Graphe representant les acceptations selon les caracteristiques"
   ]
  },
  {
   "cell_type": "code",
   "execution_count": 1356,
   "metadata": {},
   "outputs": [
    {
     "data": {
      "text/plain": [
       "Text(0, 0.5, 'Note module 2')"
      ]
     },
     "execution_count": 1356,
     "metadata": {},
     "output_type": "execute_result"
    },
    {
     "data": {
      "image/png": "[encoded data removed]",
      "text/plain": [
       "<Figure size 1000x600 with 1 Axes>"
      ]
     },
     "metadata": {},
     "output_type": "display_data"
    }
   ],
   "source": [
    "plt.scatter(X[np.where(y==1),1],X[np.where(y==1),2], label=\"accepte\",marker ='o')\n",
    "plt.scatter(X[np.where(y==0),1],X[np.where(y==0),2], label=\"non accepte\",marker ='x')\n",
    "\n",
    "plt.xlabel('Note module 1')\n",
    "plt.ylabel('Note module 2')"
   ]
  },
  {
   "cell_type": "markdown",
   "metadata": {},
   "source": [
    "Traçage du coût en fonction de theta0 et theta1"
   ]
  },
  {
   "cell_type": "code",
   "execution_count": 1357,
   "metadata": {},
   "outputs": [
    {
     "data": {
      "image/png": "[encoded data removed]",
      "text/plain": [
       "<Figure size 1000x600 with 1 Axes>"
      ]
     },
     "metadata": {},
     "output_type": "display_data"
    }
   ],
   "source": [
    "drawLine()"
   ]
  },
  {
   "cell_type": "markdown",
   "metadata": {},
   "source": [
    "Prédire des valeurs de y"
   ]
  },
  {
   "cell_type": "code",
   "execution_count": 1385,
   "metadata": {},
   "outputs": [
    {
     "name": "stdout",
     "output_type": "stream",
     "text": [
      "Row = 76\n",
      "X = [ 1.  9. 17.]\n",
      "y =  [1]\n",
      "Prediction = [0.89529421] \tClass = [1]\n"
     ]
    }
   ],
   "source": [
    "# Predire pour des notes note1= 9 et note2=17\n",
    "for i in range (len(X)):\n",
    "    if ((X[i,1] == 9) and (X[i,2] == 17)): \n",
    "        x = X[i]\n",
    "        break\n",
    "\n",
    "print(\"Row =\",i)\n",
    "print(\"X =\",x)\n",
    "print(\"y = \",y[76])\n",
    "\n",
    "y_pred = model(x, theta)\n",
    "print(\"Prediction =\", y_pred, \"\\tClass =\", [0 if y_pred<=0.5 else 1 ])"
   ]
  },
  {
   "cell_type": "code",
   "execution_count": 1384,
   "metadata": {},
   "outputs": [
    {
     "name": "stdout",
     "output_type": "stream",
     "text": [
      "y = [0] \ty_pred = 0.0528594475 \tpred_class = 0\n",
      "y = [0] \ty_pred = 5.65885e-05 \tpred_class = 0\n",
      "y = [0] \ty_pred = 0.0546848679 \tpred_class = 0\n",
      "y = [1] \ty_pred = 0.9945579313 \tpred_class = 1\n",
      "y = [1] \ty_pred = 0.9981681809 \tpred_class = 1\n",
      "\n"
     ]
    },
    {
     "name": "stderr",
     "output_type": "stream",
     "text": [
      "C:\\Users\\linai\\AppData\\Local\\Temp\\ipykernel_15336\\2129167194.py:6: DeprecationWarning: Conversion of an array with ndim > 0 to a scalar is deprecated, and will error in future. Ensure you extract a single element from your array before performing this operation. (Deprecated NumPy 1.25.)\n",
      "  print(\"y =\",y[i],\"\\ty_pred =\", round(float(y_pred[i]), 10), \"\\tpred_class =\", predictions[i])\n"
     ]
    }
   ],
   "source": [
    "#Prédiction de tous le dataset\n",
    "y_pred = model(X, theta)\n",
    "predictions = [0 if proba<=0.5 else 1 for proba in y_pred]\n",
    "\n",
    "for i in range(5):\n",
    "    print(\"y =\",y[i],\"\\ty_pred =\", round(float(y_pred[i]), 10), \"\\tpred_class =\", predictions[i])\n",
    "    \n",
    "print(\"\")"
   ]
  },
  {
   "cell_type": "markdown",
   "metadata": {},
   "source": [
    "# Vérification de l'implementation\n",
    "Comparer vos algorithmes à ceux de scikitlearn"
   ]
  },
  {
   "cell_type": "code",
   "execution_count": 1332,
   "metadata": {},
   "outputs": [],
   "source": [
    "from sklearn.linear_model import LogisticRegression\n",
    "\n",
    "X_sk = data[:,0:2]\n",
    "y = data[:,2]\n",
    "\n",
    "logreg = LogisticRegression(random_state=16)\n",
    "logreg.fit(X_sk, y)\n",
    "\n",
    "y_pred_sk = logreg.predict(X_sk[80:, :])"
   ]
  },
  {
   "cell_type": "code",
   "execution_count": 1333,
   "metadata": {},
   "outputs": [
    {
     "data": {
      "text/plain": [
       "array([1, 1, 1, 1, 1, 1, 0, 1, 1, 0, 1, 1, 0, 1, 1, 1, 1, 1, 1, 1])"
      ]
     },
     "execution_count": 1333,
     "metadata": {},
     "output_type": "execute_result"
    }
   ],
   "source": [
    "#Original Class\n",
    "y[80:]"
   ]
  },
  {
   "cell_type": "code",
   "execution_count": 1334,
   "metadata": {},
   "outputs": [
    {
     "data": {
      "text/plain": [
       "array([1, 1, 1, 0, 1, 1, 0, 1, 1, 0, 1, 1, 0, 1, 1, 1, 1, 1, 0, 1])"
      ]
     },
     "execution_count": 1334,
     "metadata": {},
     "output_type": "execute_result"
    }
   ],
   "source": [
    "#Sklearn prediction\n",
    "y_pred_sk"
   ]
  },
  {
   "cell_type": "code",
   "execution_count": 1335,
   "metadata": {},
   "outputs": [
    {
     "data": {
      "text/plain": [
       "[1, 1, 1, 0, 1, 1, 0, 1, 1, 0, 1, 1, 0, 1, 1, 1, 1, 1, 0, 1]"
      ]
     },
     "execution_count": 1335,
     "metadata": {},
     "output_type": "execute_result"
    }
   ],
   "source": [
    "#Our models prediction\n",
    "predictions[80:] "
   ]
  },
  {
   "cell_type": "code",
   "execution_count": null,
   "metadata": {},
   "outputs": [],
   "source": [
    "#On peut voir que les prédictions de sklearn et les notres sont les mêmes pour les 20 dérnières valeurs du dataset"
   ]
  },
  {
   "cell_type": "markdown",
   "metadata": {},
   "source": [
    "# Renforcement d'apprentissage\n",
    "Mettre ici toute idée qui pourrait renforcer votre apprentissage"
   ]
  },
  {
   "cell_type": "code",
   "execution_count": null,
   "metadata": {},
   "outputs": [],
   "source": []
  },
  {
   "cell_type": "markdown",
   "metadata": {},
   "source": [
    "# Consignes"
   ]
  },
  {
   "cell_type": "code",
   "execution_count": 808,
   "metadata": {},
   "outputs": [],
   "source": [
    "# bonne chance"
   ]
  }
 ],
 "metadata": {
  "kernelspec": {
   "display_name": "Python 3",
   "language": "python",
   "name": "python3"
  },
  "language_info": {
   "codemirror_mode": {
    "name": "ipython",
    "version": 3
   },
   "file_extension": ".py",
   "mimetype": "text/x-python",
   "name": "python",
   "nbconvert_exporter": "python",
   "pygments_lexer": "ipython3",
   "version": "3.9.18"
  }
 },
 "nbformat": 4,
 "nbformat_minor": 2
}
